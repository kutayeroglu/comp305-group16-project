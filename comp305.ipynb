{
 "cells": [
  {
   "cell_type": "markdown",
   "metadata": {},
   "source": [
    "# Version 1 \n",
    "- BFS based iterative solution.\n",
    "11.05.21"
   ]
  },
  {
   "cell_type": "code",
   "execution_count": 5,
   "metadata": {},
   "outputs": [],
   "source": [
    "def read_input(inp):\n",
    "    l = []\n",
    "    for i in range(len(inp)):\n",
    "        l.append([])\n",
    "    for i in range(len(inp)):\n",
    "        l[inp[i]-1].append(i+1)\n",
    "    return l"
   ]
  },
  {
   "cell_type": "code",
   "execution_count": 63,
   "metadata": {},
   "outputs": [],
   "source": [
    "def find_num_of_one_node(graph,node, ticket):\n",
    "    if ticket == 0:\n",
    "        return 1\n",
    "    nodes = []\n",
    "    nodes.append((node,ticket))\n",
    "    ans = []\n",
    "    visited= []\n",
    "    while len(nodes)!=0:\n",
    "        node, ticket = nodes[0]\n",
    "        ans.append(node)\n",
    "        visited.append(node)\n",
    "        if ticket>0:\n",
    "            adj_list = graph[node-1]\n",
    "            for adj in adj_list:\n",
    "                if adj not in visited:\n",
    "                    nodes.append((adj, ticket-1))\n",
    "        nodes = nodes[1:]     \n",
    "    return ans"
   ]
  },
  {
   "cell_type": "code",
   "execution_count": 64,
   "metadata": {},
   "outputs": [
    {
     "data": {
      "text/plain": [
       "[4, 3, 5, 2, 6]"
      ]
     },
     "execution_count": 64,
     "metadata": {},
     "output_type": "execute_result"
    }
   ],
   "source": [
    "find_num_of_one_node(read_input(inp), 4, 2)"
   ]
  },
  {
   "cell_type": "markdown",
   "metadata": {},
   "source": [
    "# Version 2\n",
    "13.05.21"
   ]
  },
  {
   "cell_type": "markdown",
   "metadata": {},
   "source": [
    "Updates:\n",
    "- Instead of list of lists for graph, hashmap is used.\n",
    "- DFS based recursive solution is added.\n"
   ]
  },
  {
   "cell_type": "code",
   "execution_count": 8,
   "metadata": {},
   "outputs": [
    {
     "data": {
      "text/plain": [
       "{2: [1], 3: [2, 6], 4: [3, 5], 5: [4]}"
      ]
     },
     "execution_count": 8,
     "metadata": {},
     "output_type": "execute_result"
    }
   ],
   "source": [
    "inp = [2,3,4,5,4,3]\n",
    "def read_input_v2(inp):\n",
    "    graph={}\n",
    "\n",
    "    for i in range(len(inp)):\n",
    "        if inp[i] in graph:\n",
    "            graph[inp[i]].append(i+1)\n",
    "        else:\n",
    "            graph[inp[i]]=[]\n",
    "            graph[inp[i]].append(i+1)\n",
    "    return graph\n",
    "read_input_v2(inp)"
   ]
  },
  {
   "cell_type": "code",
   "execution_count": 9,
   "metadata": {},
   "outputs": [
    {
     "name": "stdout",
     "output_type": "stream",
     "text": [
      "5\n"
     ]
    }
   ],
   "source": [
    "#DFS  solution for list based graph\n",
    "\n",
    "def dfs_based_find_num_for_list(graph,node,ticket, visited):\n",
    "    if ticket==0:\n",
    "        return 1\n",
    "    else:\n",
    "        d=1\n",
    "        visited.append(node)\n",
    "        for adj in graph[node-1] :\n",
    "            if adj not in visited:\n",
    "                d+=dfs_based_find_num_for_list(graph, adj,ticket-1, visited)\n",
    "    return d\n",
    "        \n",
    "a=dfs_based_find_num_for_list(read_input(inp),4,2, [])\n",
    "print(a)\n"
   ]
  },
  {
   "cell_type": "code",
   "execution_count": 10,
   "metadata": {
    "scrolled": true
   },
   "outputs": [
    {
     "name": "stdout",
     "output_type": "stream",
     "text": [
      "5\n"
     ]
    }
   ],
   "source": [
    "#DFS  solution for map based graph\n",
    "\n",
    "def dfs_based_find_num(graph,node,ticket, visited):\n",
    "    if ticket==0:\n",
    "        return 1\n",
    "    else:\n",
    "        d=1\n",
    "        visited.append(node)\n",
    "        if node not in graph:\n",
    "            return 1\n",
    "        for adj in graph[node] :\n",
    "            if adj not in visited:\n",
    "                d+=dfs_based_find_num(graph, adj,ticket-1, visited)\n",
    "    return d\n",
    "        \n",
    "a=dfs_based_find_num(read_input_v2(inp),4,2, [])\n",
    "print(a)"
   ]
  },
  {
   "cell_type": "markdown",
   "metadata": {},
   "source": [
    "# Version 3\n",
    "16.05.21\n",
    "\n",
    "Updates:\n",
    "- Traverse based iterative algorithm.\n"
   ]
  },
  {
   "cell_type": "code",
   "execution_count": null,
   "metadata": {},
   "outputs": [],
   "source": [
    "file = \"example_input.txt\"\n",
    "\n",
    "with open(file) as f:\n",
    "    lines = f.readlines()\n",
    "    \n",
    "counter = 0\n",
    "input_list = []\n",
    "for line in lines: \n",
    "    if counter == 0:#first line\n",
    "        first_info = line.split()\n",
    "        print(first_info)\n",
    "        counter += 1\n",
    "    else: \n",
    "        input_list.append(line.split()[0])\n",
    "print(input_list)"
   ]
  },
  {
   "cell_type": "code",
   "execution_count": 28,
   "metadata": {},
   "outputs": [],
   "source": [
    "inp = [2,3,4,5,4,3]\n",
    "\n",
    "def traverse_based_find_num(inp, ticket):\n",
    "    ans = [1]*len(inp)\n",
    "    for j in range(len(inp)):\n",
    "        current = j+1\n",
    "        visited = [current]\n",
    "        for i in range(ticket):\n",
    "            nxt = inp[current-1]\n",
    "            if nxt not in visited:\n",
    "                visited.append(nxt)\n",
    "                ans[nxt-1] +=1\n",
    "                current = nxt\n",
    "    return ans"
   ]
  },
  {
   "cell_type": "code",
   "execution_count": 29,
   "metadata": {},
   "outputs": [
    {
     "data": {
      "text/plain": [
       "[1, 2, 4, 5, 3, 1]"
      ]
     },
     "execution_count": 29,
     "metadata": {},
     "output_type": "execute_result"
    }
   ],
   "source": [
    "traverse_based_find_num(inp, 2)"
   ]
  },
  {
   "cell_type": "markdown",
   "metadata": {},
   "source": [
    "# Version 4\n",
    "26.05.21\n",
    "- IO operation has been integrated.\n",
    "- Complexity: Let n: number of city and t: ticket -> O(n*t)\n"
   ]
  },
  {
   "cell_type": "code",
   "execution_count": 34,
   "metadata": {},
   "outputs": [],
   "source": [
    "def read_file(name):\n",
    "    file = name\n",
    "    with open(file) as f:\n",
    "        lines = f.readlines()\n",
    "    counter = 0\n",
    "    input_list = []\n",
    "    for line in lines: \n",
    "        if counter == 0:#first line\n",
    "            ticket = line.split()[1]\n",
    "            counter += 1\n",
    "        else: \n",
    "            input_list.append(int(line.split()[0]))\n",
    "    return input_list, int(ticket)"
   ]
  },
  {
   "cell_type": "code",
   "execution_count": 35,
   "metadata": {
    "scrolled": false
   },
   "outputs": [],
   "source": [
    "def traverse_based_find_num(file_name):\n",
    "    inp, ticket = read_file(file_name)\n",
    "    ans = [1]*len(inp)\n",
    "    for j in range(len(inp)):\n",
    "        current = j+1\n",
    "        visited = [current]\n",
    "        for i in range(ticket):\n",
    "            nxt = inp[current-1]\n",
    "            if nxt not in visited:\n",
    "                visited.append(nxt)\n",
    "                ans[nxt-1] +=1\n",
    "                current = nxt\n",
    "    return ans"
   ]
  },
  {
   "cell_type": "code",
   "execution_count": 36,
   "metadata": {
    "scrolled": true
   },
   "outputs": [
    {
     "data": {
      "text/plain": [
       "[1, 2, 4, 5, 3, 1]"
      ]
     },
     "execution_count": 36,
     "metadata": {},
     "output_type": "execute_result"
    }
   ],
   "source": [
    "traverse_based_find_num(\"gezgin_bezgin_1.txt\")"
   ]
  },
  {
   "cell_type": "markdown",
   "metadata": {},
   "source": [
    "# To do\n",
    "- Create slides\n",
    "- Compare execution times"
   ]
  },
  {
   "cell_type": "code",
   "execution_count": null,
   "metadata": {},
   "outputs": [],
   "source": []
  }
 ],
 "metadata": {
  "kernelspec": {
   "display_name": "Python 3",
   "language": "python",
   "name": "python3"
  },
  "language_info": {
   "codemirror_mode": {
    "name": "ipython",
    "version": 3
   },
   "file_extension": ".py",
   "mimetype": "text/x-python",
   "name": "python",
   "nbconvert_exporter": "python",
   "pygments_lexer": "ipython3",
   "version": "3.8.5"
  }
 },
 "nbformat": 4,
 "nbformat_minor": 4
}
